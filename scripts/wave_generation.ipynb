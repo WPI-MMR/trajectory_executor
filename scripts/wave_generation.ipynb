{
 "cells": [
  {
   "cell_type": "markdown",
   "id": "193a357e-6603-4301-bee1-ea040a8ce4fd",
   "metadata": {},
   "source": [
    "An analysis on creating the joint positions / time for our quad wave gait."
   ]
  },
  {
   "cell_type": "markdown",
   "id": "383eb213-4792-4a7e-954e-88a75eaf848a",
   "metadata": {},
   "source": [
    "# Highest Imports"
   ]
  },
  {
   "cell_type": "markdown",
   "id": "1c2a16e6-2672-4990-97b3-de19a27c2ab8",
   "metadata": {},
   "source": [
    "Set up matplotlib"
   ]
  },
  {
   "cell_type": "code",
   "execution_count": 1,
   "id": "d062bc21-b38e-4459-8912-cca7074a80e1",
   "metadata": {},
   "outputs": [],
   "source": [
    "%matplotlib widget\n",
    "import matplotlib.pyplot as plt"
   ]
  },
  {
   "cell_type": "markdown",
   "id": "b5788938-97c9-4a7d-b55c-fab9530e823b",
   "metadata": {},
   "source": [
    "Other useful imports"
   ]
  },
  {
   "cell_type": "code",
   "execution_count": 2,
   "id": "507777d6-4491-427e-91ac-8b224c3cb541",
   "metadata": {},
   "outputs": [],
   "source": [
    "import numpy as np"
   ]
  },
  {
   "cell_type": "markdown",
   "id": "4f640a9a-c8cf-442c-b268-ce10530438a1",
   "metadata": {},
   "source": [
    "# Gait Parameters"
   ]
  },
  {
   "cell_type": "code",
   "execution_count": 3,
   "id": "1f02057e-6cc1-450b-8ef4-bb6476b439ef",
   "metadata": {},
   "outputs": [],
   "source": [
    "beta = duty_cycle = 0.75\n",
    "v = body_velocity = 0.03  # m/s\n",
    "T = cycle_time = 1  # s\n",
    "L = v * T # m"
   ]
  },
  {
   "cell_type": "markdown",
   "id": "1116085e-43a1-4216-bd71-9dc9a72eccf3",
   "metadata": {},
   "source": [
    "Compute $T_l$, the relative cycle time for each leg"
   ]
  },
  {
   "cell_type": "code",
   "execution_count": 4,
   "id": "df2dca9b-b776-4d61-bf43-58630d5ab40a",
   "metadata": {},
   "outputs": [],
   "source": [
    "T_l = (1 - beta) * T"
   ]
  },
  {
   "cell_type": "markdown",
   "id": "332952f9-ca11-49f5-b264-ab6f9105f293",
   "metadata": {},
   "source": [
    "Vertical Leg movement parameters"
   ]
  },
  {
   "cell_type": "code",
   "execution_count": 5,
   "id": "f2d4ad38-4087-4e50-9c78-7407c9dd2f31",
   "metadata": {},
   "outputs": [],
   "source": [
    "# Maximum distance to raise the foot tip\n",
    "y_max = .015  #m"
   ]
  },
  {
   "cell_type": "markdown",
   "id": "eb9b3f08-c90c-4de9-9446-1a2902f4ac4f",
   "metadata": {},
   "source": [
    "# Generate Horizontal + Vertical Positions & Velocites"
   ]
  },
  {
   "cell_type": "markdown",
   "id": "ff521d84-9d1b-4ec9-b422-ef20c758d535",
   "metadata": {},
   "source": [
    "We will split this up into 6 checkpoints, similar to how it was done in the video. \n",
    "1. vertical launch (when the leg is lifting)\n",
    "2. horizontal launch (leg is done lifting up and starts moving horizontally)\n",
    "3. horizontal movement (leg is moving the final position)\n",
    "4. horizontal movement stop\n",
    "5. horizontal stop\n",
    "6. vertical stop\n",
    "\n",
    "Observe that the horizontal velocity graph is always symmetric, so we can split our checkpoints into the two following groups:\n",
    "1. horizontal_move_start\n",
    "2. horizontal_move_stable\n",
    "\n",
    "As the leg always needs to move first, we know that $launch_{vertical} = 0$ always. Keep them as fractions of the **half cycle** as everything is symmetric and dynamic"
   ]
  },
  {
   "cell_type": "code",
   "execution_count": 6,
   "id": "06d978ae-1bb3-4e5a-83b4-baea7c35cd4d",
   "metadata": {},
   "outputs": [
    {
     "data": {
      "text/plain": [
       "array([0.  , 0.05, 0.1 , 0.15, 0.2 , 0.25])"
      ]
     },
     "execution_count": 6,
     "metadata": {},
     "output_type": "execute_result"
    }
   ],
   "source": [
    "horizontal_move_start = .4\n",
    "horizontal_move_stable = .8\n",
    "\n",
    "checkpoint_fracs = np.array((0, horizontal_move_start, horizontal_move_stable))\n",
    "left = checkpoint_fracs * T_l / 2\n",
    "right = T_l - left \n",
    "t = np.concatenate((left, np.flip(right)))\n",
    "t"
   ]
  },
  {
   "cell_type": "markdown",
   "id": "7bf93a85-8725-4f9c-8ce6-4e0dd6d464bb",
   "metadata": {},
   "source": [
    "Visualize the checkpoints"
   ]
  },
  {
   "cell_type": "code",
   "execution_count": 7,
   "id": "8465fff2-881a-4b01-ab10-71c250520548",
   "metadata": {
    "tags": []
   },
   "outputs": [
    {
     "data": {
      "application/vnd.jupyter.widget-view+json": {
       "model_id": "3967c590bb57488c9307832814963073",
       "version_major": 2,
       "version_minor": 0
      },
      "text/plain": [
       "Canvas(toolbar=Toolbar(toolitems=[('Home', 'Reset original view', 'home', 'home'), ('Back', 'Back to previous …"
      ]
     },
     "metadata": {},
     "output_type": "display_data"
    },
    {
     "data": {
      "text/plain": [
       "<matplotlib.collections.PathCollection at 0x7f7a30e577d0>"
      ]
     },
     "execution_count": 7,
     "metadata": {},
     "output_type": "execute_result"
    }
   ],
   "source": [
    "plt.figure()\n",
    "plt.scatter(t, np.full(t.shape, 1))"
   ]
  },
  {
   "cell_type": "markdown",
   "id": "fad65e98-3d00-4564-99ba-c4ee145061b5",
   "metadata": {},
   "source": [
    "## Horizontal Velocity Over Time\n",
    "Compute the x-velocities for all timesteps"
   ]
  },
  {
   "cell_type": "code",
   "execution_count": 8,
   "id": "c64d191f-c20a-444e-bb3f-19af8c1a020d",
   "metadata": {},
   "outputs": [],
   "source": [
    "vx_max = L / ((t[2] - t[1]) + (t[3] - t[2]))\n",
    "vx = np.array((0, 0, vx_max, vx_max, 0, 0))"
   ]
  },
  {
   "cell_type": "code",
   "execution_count": 9,
   "id": "e5bc22ab-4e7c-4f12-be1c-5643f63863d8",
   "metadata": {},
   "outputs": [
    {
     "data": {
      "text/plain": [
       "0.03"
      ]
     },
     "execution_count": 9,
     "metadata": {},
     "output_type": "execute_result"
    }
   ],
   "source": [
    "L"
   ]
  },
  {
   "cell_type": "markdown",
   "id": "4efc69e4-d3f4-4a0f-a5bc-cbd77f0b572a",
   "metadata": {},
   "source": [
    "Visualize"
   ]
  },
  {
   "cell_type": "code",
   "execution_count": 10,
   "id": "069b3a72-a426-41a7-abb7-a0023645f611",
   "metadata": {},
   "outputs": [
    {
     "data": {
      "application/vnd.jupyter.widget-view+json": {
       "model_id": "a551d1c83cfe48bda463916ea764c024",
       "version_major": 2,
       "version_minor": 0
      },
      "text/plain": [
       "Canvas(toolbar=Toolbar(toolitems=[('Home', 'Reset original view', 'home', 'home'), ('Back', 'Back to previous …"
      ]
     },
     "metadata": {},
     "output_type": "display_data"
    },
    {
     "data": {
      "text/plain": [
       "Text(0.5, 1.0, '$v_x$ vs $t$')"
      ]
     },
     "execution_count": 10,
     "metadata": {},
     "output_type": "execute_result"
    }
   ],
   "source": [
    "plt.figure()\n",
    "plt.plot(t, vx)\n",
    "plt.title('$v_x$ vs $t$')"
   ]
  },
  {
   "cell_type": "markdown",
   "id": "09e2df66-9a8d-49df-a456-67f12b54ad9b",
   "metadata": {},
   "source": [
    "## Horizontal Displacement over time\n",
    "Recall that position ($x$) can be found as\n",
    "\n",
    "$$x(t + \\Delta T) = x(t) + \\left. \\int vx dx \\right]_{t-1}^{t}$$"
   ]
  },
  {
   "cell_type": "code",
   "execution_count": 11,
   "id": "64c19d3c-d531-4374-aaf4-93d9334963a0",
   "metadata": {},
   "outputs": [],
   "source": [
    "def vel_to_pos(start, t, vels):\n",
    "    d_curr = start\n",
    "    d = [d_curr]\n",
    "    for i in range(1, len(t)):        \n",
    "        if vels[i] == vels[i - 1]:  # Square integration\n",
    "            d_curr += (t[i] - t[i - 1]) * vels[i]\n",
    "        else:\n",
    "            if vels[i] == 0:\n",
    "                sgn = np.sign(vels[i - 1])\n",
    "            else:\n",
    "                sgn = np.sign(vels[i])\n",
    "            \n",
    "            # Compute square area\n",
    "            square = (t[i] - t[i - 1]) * min(abs(vels[i]), abs(vels[i - 1]))\n",
    "            \n",
    "            # Compute triangle area\n",
    "            triangle = .5 * (t[i] - t[i - 1]) * abs(vels[i] - vels[i - 1]) * sgn\n",
    "            \n",
    "            d_curr += (square + triangle)\n",
    "        d.append(d_curr)\n",
    "    return np.array(d)"
   ]
  },
  {
   "cell_type": "markdown",
   "id": "aaeb686a-aeca-42df-bc9c-db337de6e6e3",
   "metadata": {},
   "source": [
    "Recall that the position graph can be found for"
   ]
  },
  {
   "cell_type": "code",
   "execution_count": 12,
   "id": "7e46df41-f202-4757-8355-d3f3a6c82da9",
   "metadata": {},
   "outputs": [],
   "source": [
    "x_0 = -L / 2\n",
    "x = vel_to_pos(x_0, t, vx)"
   ]
  },
  {
   "cell_type": "code",
   "execution_count": 13,
   "id": "17420647-66c9-41b7-9b37-3ec5b3a8014c",
   "metadata": {},
   "outputs": [
    {
     "data": {
      "text/plain": [
       "array([0.  , 0.05, 0.1 , 0.15, 0.2 , 0.25])"
      ]
     },
     "execution_count": 13,
     "metadata": {},
     "output_type": "execute_result"
    }
   ],
   "source": [
    "t"
   ]
  },
  {
   "cell_type": "markdown",
   "id": "bbe7c0fa-8faa-4f99-a6ba-b7ab468f29c9",
   "metadata": {},
   "source": [
    "Visualize"
   ]
  },
  {
   "cell_type": "code",
   "execution_count": 14,
   "id": "86068089-15f2-43a8-8d62-d19bca8c59f0",
   "metadata": {},
   "outputs": [
    {
     "data": {
      "application/vnd.jupyter.widget-view+json": {
       "model_id": "b7781580cc654dc1a78a4640084b94f7",
       "version_major": 2,
       "version_minor": 0
      },
      "text/plain": [
       "Canvas(toolbar=Toolbar(toolitems=[('Home', 'Reset original view', 'home', 'home'), ('Back', 'Back to previous …"
      ]
     },
     "metadata": {},
     "output_type": "display_data"
    },
    {
     "data": {
      "text/plain": [
       "Text(0.5, 1.0, '$x$ vs $t$')"
      ]
     },
     "execution_count": 14,
     "metadata": {},
     "output_type": "execute_result"
    }
   ],
   "source": [
    "plt.figure()\n",
    "plt.plot(t, x)\n",
    "plt.title('$x$ vs $t$')"
   ]
  },
  {
   "cell_type": "markdown",
   "id": "454b7c8a-7f16-4087-828a-07a25b0000b5",
   "metadata": {},
   "source": [
    "## Vertical Velocity over Time"
   ]
  },
  {
   "cell_type": "code",
   "execution_count": 15,
   "id": "3dab7bdf-3cd1-43ae-b6ac-c5273cf97ecb",
   "metadata": {},
   "outputs": [],
   "source": [
    "vy_max = 2 * y_max / (t[2] - t[0]) \n",
    "vy = np.array([0, vy_max, 0, 0, -vy_max, 0])"
   ]
  },
  {
   "cell_type": "markdown",
   "id": "28ee39fd-b213-4e02-b309-ffa9f19ac319",
   "metadata": {},
   "source": [
    "Visualize"
   ]
  },
  {
   "cell_type": "code",
   "execution_count": 16,
   "id": "198c39d4-5b72-4a75-87ef-3c3c1ab87e76",
   "metadata": {},
   "outputs": [
    {
     "data": {
      "application/vnd.jupyter.widget-view+json": {
       "model_id": "5cb2989c5dcb4a4289a6919d91eb82d8",
       "version_major": 2,
       "version_minor": 0
      },
      "text/plain": [
       "Canvas(toolbar=Toolbar(toolitems=[('Home', 'Reset original view', 'home', 'home'), ('Back', 'Back to previous …"
      ]
     },
     "metadata": {},
     "output_type": "display_data"
    },
    {
     "data": {
      "text/plain": [
       "Text(0.5, 1.0, '$vy$ vs $t$')"
      ]
     },
     "execution_count": 16,
     "metadata": {},
     "output_type": "execute_result"
    }
   ],
   "source": [
    "plt.figure()\n",
    "plt.plot(t, vy)\n",
    "plt.title('$vy$ vs $t$')"
   ]
  },
  {
   "cell_type": "markdown",
   "id": "3d0573f3-74d2-468d-8d14-4313cfac156c",
   "metadata": {},
   "source": [
    "## Vertical Displacement Over Time"
   ]
  },
  {
   "cell_type": "code",
   "execution_count": 17,
   "id": "316d2592-9bdf-4cad-8669-3a0d23e236f2",
   "metadata": {},
   "outputs": [],
   "source": [
    "y_0 = 0\n",
    "y = vel_to_pos(y_0, t, vy)"
   ]
  },
  {
   "cell_type": "markdown",
   "id": "1c20895f-6d11-4450-ad55-f1614ccfad71",
   "metadata": {},
   "source": [
    "Visualize"
   ]
  },
  {
   "cell_type": "code",
   "execution_count": 18,
   "id": "d4afc692-4820-4243-91de-c541ad5f6050",
   "metadata": {},
   "outputs": [
    {
     "data": {
      "application/vnd.jupyter.widget-view+json": {
       "model_id": "0b44733a94c34054829658d85a9369a7",
       "version_major": 2,
       "version_minor": 0
      },
      "text/plain": [
       "Canvas(toolbar=Toolbar(toolitems=[('Home', 'Reset original view', 'home', 'home'), ('Back', 'Back to previous …"
      ]
     },
     "metadata": {},
     "output_type": "display_data"
    },
    {
     "data": {
      "text/plain": [
       "Text(0.5, 1.0, '$y$ vs $t$')"
      ]
     },
     "execution_count": 18,
     "metadata": {},
     "output_type": "execute_result"
    }
   ],
   "source": [
    "plt.figure()\n",
    "plt.plot(t, y)\n",
    "plt.title('$y$ vs $t$')"
   ]
  },
  {
   "cell_type": "markdown",
   "id": "b52e2b42-25cb-4036-ab8d-2200cc4dd74a",
   "metadata": {},
   "source": [
    "## Vertical Vel vs. Horizontal Vel w.r.t Ground"
   ]
  },
  {
   "cell_type": "code",
   "execution_count": 19,
   "id": "c491d290-ea70-4990-ac39-b669be6269ad",
   "metadata": {},
   "outputs": [
    {
     "data": {
      "application/vnd.jupyter.widget-view+json": {
       "model_id": "438a90b1f7f74ed5b3955e41202235e9",
       "version_major": 2,
       "version_minor": 0
      },
      "text/plain": [
       "Canvas(toolbar=Toolbar(toolitems=[('Home', 'Reset original view', 'home', 'home'), ('Back', 'Back to previous …"
      ]
     },
     "metadata": {},
     "output_type": "display_data"
    },
    {
     "data": {
      "text/plain": [
       "Text(0.5, 1.0, '$y$ vs $x$ w.r.t ground')"
      ]
     },
     "execution_count": 19,
     "metadata": {},
     "output_type": "execute_result"
    }
   ],
   "source": [
    "plt.figure()\n",
    "plt.plot(x, y)\n",
    "plt.title('$y$ vs $x$ w.r.t ground')"
   ]
  },
  {
   "cell_type": "markdown",
   "id": "42946c0e-fc91-4712-b280-162e223081af",
   "metadata": {},
   "source": [
    "## Vertical Positiosn vs. Horizontal positions w.r.t Body"
   ]
  },
  {
   "cell_type": "code",
   "execution_count": 20,
   "id": "9139ecf9-0e8c-4abb-8661-6590bbd263d6",
   "metadata": {},
   "outputs": [],
   "source": [
    "x_b = x - v * t"
   ]
  },
  {
   "cell_type": "markdown",
   "id": "1b2d09e3-cb3f-462a-b76f-374ee6ec5c18",
   "metadata": {},
   "source": [
    "Visualize"
   ]
  },
  {
   "cell_type": "code",
   "execution_count": 21,
   "id": "918f468d-1e9f-43cc-b155-6bbb22396764",
   "metadata": {},
   "outputs": [
    {
     "data": {
      "application/vnd.jupyter.widget-view+json": {
       "model_id": "703fde7ec8eb4b7e884a702960ad2d18",
       "version_major": 2,
       "version_minor": 0
      },
      "text/plain": [
       "Canvas(toolbar=Toolbar(toolitems=[('Home', 'Reset original view', 'home', 'home'), ('Back', 'Back to previous …"
      ]
     },
     "metadata": {},
     "output_type": "display_data"
    },
    {
     "data": {
      "text/plain": [
       "Text(0.5, 1.0, '$y$ vs $x$ w.r.t body')"
      ]
     },
     "execution_count": 21,
     "metadata": {},
     "output_type": "execute_result"
    }
   ],
   "source": [
    "plt.figure()\n",
    "plt.plot(x_b, y)\n",
    "plt.title('$y$ vs $x$ w.r.t body')"
   ]
  },
  {
   "cell_type": "code",
   "execution_count": null,
   "id": "7a1ca5fc-2f72-41af-9078-be59689e43b8",
   "metadata": {},
   "outputs": [],
   "source": []
  },
  {
   "cell_type": "code",
   "execution_count": null,
   "id": "f30eeab4-9e97-4c09-bebf-b72ba660beca",
   "metadata": {},
   "outputs": [],
   "source": []
  }
 ],
 "metadata": {
  "kernelspec": {
   "display_name": "Python 3",
   "language": "python",
   "name": "python3"
  },
  "language_info": {
   "codemirror_mode": {
    "name": "ipython",
    "version": 3
   },
   "file_extension": ".py",
   "mimetype": "text/x-python",
   "name": "python",
   "nbconvert_exporter": "python",
   "pygments_lexer": "ipython3",
   "version": "3.7.10"
  }
 },
 "nbformat": 4,
 "nbformat_minor": 5
}
