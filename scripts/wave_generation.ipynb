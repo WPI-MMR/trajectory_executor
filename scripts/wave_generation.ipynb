{
 "cells": [
  {
   "cell_type": "markdown",
   "id": "1a2b98c7",
   "metadata": {},
   "source": [
    "An analysis on creating the joint positions / time for our quad wave gait."
   ]
  },
  {
   "cell_type": "markdown",
   "id": "30cb3f4d",
   "metadata": {},
   "source": [
    "# Highest Imports"
   ]
  },
  {
   "cell_type": "markdown",
   "id": "2043cc4e",
   "metadata": {},
   "source": [
    "Set up matplotlib"
   ]
  },
  {
   "cell_type": "code",
   "execution_count": 1,
   "id": "b49b6353",
   "metadata": {},
   "outputs": [],
   "source": [
    "%matplotlib widget\n",
    "import matplotlib.pyplot as plt"
   ]
  },
  {
   "cell_type": "markdown",
   "id": "0a105a00",
   "metadata": {},
   "source": [
    "Other useful imports"
   ]
  },
  {
   "cell_type": "code",
   "execution_count": 2,
   "id": "fa35005b",
   "metadata": {},
   "outputs": [],
   "source": [
    "import numpy as np"
   ]
  },
  {
   "cell_type": "markdown",
   "id": "760a67a0",
   "metadata": {},
   "source": [
    "# Gait Parameters"
   ]
  },
  {
   "cell_type": "code",
   "execution_count": 3,
   "id": "953cd114",
   "metadata": {},
   "outputs": [],
   "source": [
    "# beta = duty_cycle = 0.75\n",
    "# v = body_velocity = 0.03  # m/s\n",
    "# T = cycle_time = 1  # s\n",
    "# L = v * T # m"
   ]
  },
  {
   "cell_type": "code",
   "execution_count": 4,
   "id": "2ba7774d-9b3a-4635-89cc-c9b1ddb91659",
   "metadata": {},
   "outputs": [],
   "source": [
    "beta = duty_cycle = 0.9\n",
    "T = cycle_time = .75  # s\n",
    "L = 0.15\n",
    "v = body_velocity = L / T"
   ]
  },
  {
   "cell_type": "code",
   "execution_count": 5,
   "id": "00ee48ed-255e-4c4f-b72b-f02ebfcfa774",
   "metadata": {},
   "outputs": [
    {
     "data": {
      "text/plain": [
       "0.19999999999999998"
      ]
     },
     "execution_count": 5,
     "metadata": {},
     "output_type": "execute_result"
    }
   ],
   "source": [
    "v"
   ]
  },
  {
   "cell_type": "markdown",
   "id": "d563c2c1",
   "metadata": {},
   "source": [
    "Compute $T_l$, the relative cycle time for each leg"
   ]
  },
  {
   "cell_type": "code",
   "execution_count": 6,
   "id": "f7a4c894",
   "metadata": {},
   "outputs": [],
   "source": [
    "T_l = (1 - beta) * T"
   ]
  },
  {
   "cell_type": "markdown",
   "id": "6011f7b6",
   "metadata": {},
   "source": [
    "Vertical Leg movement parameters"
   ]
  },
  {
   "cell_type": "code",
   "execution_count": 7,
   "id": "9fa04aea",
   "metadata": {},
   "outputs": [],
   "source": [
    "# Maximum distance to raise the foot tip\n",
    "y_max = .05  #m"
   ]
  },
  {
   "cell_type": "markdown",
   "id": "dbd8cf78",
   "metadata": {},
   "source": [
    "# Generate Horizontal + Vertical Positions & Velocites"
   ]
  },
  {
   "cell_type": "markdown",
   "id": "9a723e48",
   "metadata": {},
   "source": [
    "We will split this up into 6 checkpoints, similar to how it was done in the video. \n",
    "1. vertical launch (when the leg is lifting)\n",
    "2. horizontal launch (leg is done lifting up and starts moving horizontally)\n",
    "3. horizontal movement (leg is moving the final position)\n",
    "4. horizontal movement stop\n",
    "5. horizontal stop\n",
    "6. vertical stop\n",
    "\n",
    "Observe that the horizontal velocity graph is always symmetric, so we can split our checkpoints into the two following groups:\n",
    "1. horizontal_move_start\n",
    "2. horizontal_move_stable\n",
    "\n",
    "As the leg always needs to move first, we know that $launch_{vertical} = 0$ always. Keep them as fractions of the **half cycle** as everything is symmetric and dynamic"
   ]
  },
  {
   "cell_type": "code",
   "execution_count": 8,
   "id": "b1628fde",
   "metadata": {},
   "outputs": [
    {
     "data": {
      "text/plain": [
       "array([0.   , 0.015, 0.03 , 0.045, 0.06 , 0.075])"
      ]
     },
     "execution_count": 8,
     "metadata": {},
     "output_type": "execute_result"
    }
   ],
   "source": [
    "horizontal_move_start = .4\n",
    "horizontal_move_stable = .8\n",
    "\n",
    "checkpoint_fracs = np.array((0, horizontal_move_start, horizontal_move_stable))\n",
    "left = checkpoint_fracs * T_l / 2\n",
    "right = T_l - left \n",
    "t = np.concatenate((left, np.flip(right)))\n",
    "t"
   ]
  },
  {
   "cell_type": "markdown",
   "id": "0831f8af",
   "metadata": {},
   "source": [
    "Visualize the checkpoints"
   ]
  },
  {
   "cell_type": "code",
   "execution_count": 9,
   "id": "7237f62f",
   "metadata": {
    "tags": []
   },
   "outputs": [
    {
     "data": {
      "application/vnd.jupyter.widget-view+json": {
       "model_id": "6e5ce9d927474c3493b652976c4ec826",
       "version_major": 2,
       "version_minor": 0
      },
      "text/plain": [
       "Canvas(toolbar=Toolbar(toolitems=[('Home', 'Reset original view', 'home', 'home'), ('Back', 'Back to previous …"
      ]
     },
     "metadata": {},
     "output_type": "display_data"
    },
    {
     "data": {
      "text/plain": [
       "<matplotlib.collections.PathCollection at 0x7f1aedd4a490>"
      ]
     },
     "execution_count": 9,
     "metadata": {},
     "output_type": "execute_result"
    }
   ],
   "source": [
    "plt.figure()\n",
    "plt.scatter(t, np.full(t.shape, 1))"
   ]
  },
  {
   "cell_type": "markdown",
   "id": "a651c7f2",
   "metadata": {},
   "source": [
    "## Horizontal Velocity Over Time\n",
    "Compute the x-velocities for all timesteps"
   ]
  },
  {
   "cell_type": "code",
   "execution_count": 10,
   "id": "6796ce0e",
   "metadata": {},
   "outputs": [],
   "source": [
    "vx_max = L / ((t[2] - t[1]) + (t[3] - t[2]))\n",
    "vx = np.array((0, 0, vx_max, vx_max, 0, 0))"
   ]
  },
  {
   "cell_type": "code",
   "execution_count": 11,
   "id": "c8026d68",
   "metadata": {},
   "outputs": [
    {
     "data": {
      "text/plain": [
       "0.15"
      ]
     },
     "execution_count": 11,
     "metadata": {},
     "output_type": "execute_result"
    }
   ],
   "source": [
    "L"
   ]
  },
  {
   "cell_type": "markdown",
   "id": "3d1127e2",
   "metadata": {},
   "source": [
    "Visualize"
   ]
  },
  {
   "cell_type": "code",
   "execution_count": 12,
   "id": "a1472fbd",
   "metadata": {},
   "outputs": [
    {
     "data": {
      "application/vnd.jupyter.widget-view+json": {
       "model_id": "5c90f899f4744d7b8ffa7b30c6286314",
       "version_major": 2,
       "version_minor": 0
      },
      "text/plain": [
       "Canvas(toolbar=Toolbar(toolitems=[('Home', 'Reset original view', 'home', 'home'), ('Back', 'Back to previous …"
      ]
     },
     "metadata": {},
     "output_type": "display_data"
    },
    {
     "data": {
      "text/plain": [
       "Text(0.5, 1.0, '$v_x$ vs $t$')"
      ]
     },
     "execution_count": 12,
     "metadata": {},
     "output_type": "execute_result"
    }
   ],
   "source": [
    "plt.figure()\n",
    "plt.plot(t, vx)\n",
    "plt.title('$v_x$ vs $t$')"
   ]
  },
  {
   "cell_type": "markdown",
   "id": "2fdd5ce8",
   "metadata": {},
   "source": [
    "## Horizontal Displacement over time\n",
    "Recall that position ($x$) can be found as\n",
    "\n",
    "$$x(t + \\Delta T) = x(t) + \\left. \\int vx dx \\right]_{t-1}^{t}$$"
   ]
  },
  {
   "cell_type": "code",
   "execution_count": 13,
   "id": "5eec480a",
   "metadata": {},
   "outputs": [],
   "source": [
    "def vel_to_pos(start, t, vels):\n",
    "    d_curr = start\n",
    "    d = [d_curr]\n",
    "    for i in range(1, len(t)):        \n",
    "        if vels[i] == vels[i - 1]:  # Square integration\n",
    "            d_curr += (t[i] - t[i - 1]) * vels[i]\n",
    "        else:\n",
    "            if vels[i] == 0:\n",
    "                sgn = np.sign(vels[i - 1])\n",
    "            else:\n",
    "                sgn = np.sign(vels[i])\n",
    "            \n",
    "            # Compute square area\n",
    "            square = (t[i] - t[i - 1]) * min(abs(vels[i]), abs(vels[i - 1]))\n",
    "            \n",
    "            # Compute triangle area\n",
    "            triangle = .5 * (t[i] - t[i - 1]) * abs(vels[i] - vels[i - 1]) * sgn\n",
    "            \n",
    "            d_curr += (square + triangle)\n",
    "        d.append(d_curr)\n",
    "    return np.array(d)"
   ]
  },
  {
   "cell_type": "markdown",
   "id": "09b30dfb",
   "metadata": {},
   "source": [
    "Recall that the position graph can be found for"
   ]
  },
  {
   "cell_type": "code",
   "execution_count": 14,
   "id": "a2f2ace0",
   "metadata": {},
   "outputs": [],
   "source": [
    "x_0 = -L / 2\n",
    "x = vel_to_pos(x_0, t, vx)"
   ]
  },
  {
   "cell_type": "code",
   "execution_count": 15,
   "id": "ff105fce",
   "metadata": {},
   "outputs": [
    {
     "data": {
      "text/plain": [
       "array([0.   , 0.015, 0.03 , 0.045, 0.06 , 0.075])"
      ]
     },
     "execution_count": 15,
     "metadata": {},
     "output_type": "execute_result"
    }
   ],
   "source": [
    "t"
   ]
  },
  {
   "cell_type": "markdown",
   "id": "9e315608",
   "metadata": {},
   "source": [
    "Visualize"
   ]
  },
  {
   "cell_type": "code",
   "execution_count": 16,
   "id": "13fa5f55",
   "metadata": {},
   "outputs": [
    {
     "data": {
      "application/vnd.jupyter.widget-view+json": {
       "model_id": "b5e7062779c346be8ae1a4c2060c0389",
       "version_major": 2,
       "version_minor": 0
      },
      "text/plain": [
       "Canvas(toolbar=Toolbar(toolitems=[('Home', 'Reset original view', 'home', 'home'), ('Back', 'Back to previous …"
      ]
     },
     "metadata": {},
     "output_type": "display_data"
    },
    {
     "data": {
      "text/plain": [
       "Text(0.5, 1.0, '$x$ vs $t$')"
      ]
     },
     "execution_count": 16,
     "metadata": {},
     "output_type": "execute_result"
    }
   ],
   "source": [
    "plt.figure()\n",
    "plt.plot(t, x)\n",
    "plt.title('$x$ vs $t$')"
   ]
  },
  {
   "cell_type": "markdown",
   "id": "7f89ba3a",
   "metadata": {},
   "source": [
    "## Vertical Velocity over Time"
   ]
  },
  {
   "cell_type": "code",
   "execution_count": 17,
   "id": "334923a6",
   "metadata": {},
   "outputs": [],
   "source": [
    "vy_max = 2 * y_max / (t[2] - t[0]) \n",
    "vy = np.array([0, vy_max, 0, 0, -vy_max, 0])"
   ]
  },
  {
   "cell_type": "markdown",
   "id": "77ebe492",
   "metadata": {},
   "source": [
    "Visualize"
   ]
  },
  {
   "cell_type": "code",
   "execution_count": 18,
   "id": "dff520e6",
   "metadata": {},
   "outputs": [
    {
     "data": {
      "application/vnd.jupyter.widget-view+json": {
       "model_id": "ced47dbcc496472389bffbb46d7eaa6e",
       "version_major": 2,
       "version_minor": 0
      },
      "text/plain": [
       "Canvas(toolbar=Toolbar(toolitems=[('Home', 'Reset original view', 'home', 'home'), ('Back', 'Back to previous …"
      ]
     },
     "metadata": {},
     "output_type": "display_data"
    },
    {
     "data": {
      "text/plain": [
       "Text(0.5, 1.0, '$vy$ vs $t$')"
      ]
     },
     "execution_count": 18,
     "metadata": {},
     "output_type": "execute_result"
    }
   ],
   "source": [
    "plt.figure()\n",
    "plt.plot(t, vy)\n",
    "plt.title('$vy$ vs $t$')"
   ]
  },
  {
   "cell_type": "markdown",
   "id": "d46a764d",
   "metadata": {},
   "source": [
    "## Vertical Displacement Over Time"
   ]
  },
  {
   "cell_type": "code",
   "execution_count": 19,
   "id": "6abdb0a3",
   "metadata": {},
   "outputs": [],
   "source": [
    "y_0 = 0\n",
    "y = vel_to_pos(y_0, t, vy)"
   ]
  },
  {
   "cell_type": "markdown",
   "id": "ec2fca20",
   "metadata": {},
   "source": [
    "Visualize"
   ]
  },
  {
   "cell_type": "code",
   "execution_count": 20,
   "id": "0dd09ba7",
   "metadata": {},
   "outputs": [
    {
     "data": {
      "application/vnd.jupyter.widget-view+json": {
       "model_id": "b8ef8253fbaf4763b4e841bcec28ef16",
       "version_major": 2,
       "version_minor": 0
      },
      "text/plain": [
       "Canvas(toolbar=Toolbar(toolitems=[('Home', 'Reset original view', 'home', 'home'), ('Back', 'Back to previous …"
      ]
     },
     "metadata": {},
     "output_type": "display_data"
    },
    {
     "data": {
      "text/plain": [
       "Text(0.5, 1.0, '$y$ vs $t$')"
      ]
     },
     "execution_count": 20,
     "metadata": {},
     "output_type": "execute_result"
    }
   ],
   "source": [
    "plt.figure()\n",
    "plt.plot(t, y)\n",
    "plt.title('$y$ vs $t$')"
   ]
  },
  {
   "cell_type": "markdown",
   "id": "96b2c840",
   "metadata": {},
   "source": [
    "## Vertical Vel vs. Horizontal Vel w.r.t Ground"
   ]
  },
  {
   "cell_type": "code",
   "execution_count": 21,
   "id": "5eb35a01",
   "metadata": {},
   "outputs": [
    {
     "data": {
      "application/vnd.jupyter.widget-view+json": {
       "model_id": "a5c738f6c6bb479c802f9301ca6dd475",
       "version_major": 2,
       "version_minor": 0
      },
      "text/plain": [
       "Canvas(toolbar=Toolbar(toolitems=[('Home', 'Reset original view', 'home', 'home'), ('Back', 'Back to previous …"
      ]
     },
     "metadata": {},
     "output_type": "display_data"
    },
    {
     "data": {
      "text/plain": [
       "Text(0.5, 1.0, '$y$ vs $x$ w.r.t ground')"
      ]
     },
     "execution_count": 21,
     "metadata": {},
     "output_type": "execute_result"
    }
   ],
   "source": [
    "plt.figure()\n",
    "plt.plot(x, y)\n",
    "plt.title('$y$ vs $x$ w.r.t ground')"
   ]
  },
  {
   "cell_type": "markdown",
   "id": "b7e29c13",
   "metadata": {},
   "source": [
    "## Vertical Positiosn vs. Horizontal positions w.r.t Body"
   ]
  },
  {
   "cell_type": "code",
   "execution_count": 22,
   "id": "e9dd8ced",
   "metadata": {},
   "outputs": [],
   "source": [
    "x_b = x - v * t"
   ]
  },
  {
   "cell_type": "markdown",
   "id": "7535eeca",
   "metadata": {},
   "source": [
    "Visualize"
   ]
  },
  {
   "cell_type": "code",
   "execution_count": 23,
   "id": "b4324f47",
   "metadata": {},
   "outputs": [
    {
     "data": {
      "application/vnd.jupyter.widget-view+json": {
       "model_id": "2daefc6e6ce443b18c8a4f4bdb8d92a8",
       "version_major": 2,
       "version_minor": 0
      },
      "text/plain": [
       "Canvas(toolbar=Toolbar(toolitems=[('Home', 'Reset original view', 'home', 'home'), ('Back', 'Back to previous …"
      ]
     },
     "metadata": {},
     "output_type": "display_data"
    },
    {
     "data": {
      "text/plain": [
       "Text(0.5, 1.0, '$y$ vs $x$ w.r.t body')"
      ]
     },
     "execution_count": 23,
     "metadata": {},
     "output_type": "execute_result"
    }
   ],
   "source": [
    "plt.figure()\n",
    "plt.plot(x_b, y)\n",
    "plt.title('$y$ vs $x$ w.r.t body')"
   ]
  },
  {
   "cell_type": "code",
   "execution_count": 24,
   "id": "55f3d72b",
   "metadata": {},
   "outputs": [
    {
     "data": {
      "text/plain": [
       "[(0.0, (-0.075, 0.0)),\n",
       " (0.014999999999999998, (-0.078, 0.025)),\n",
       " (0.029999999999999995, (-0.04349999999999998, 0.05)),\n",
       " (0.044999999999999984, (0.028500000000000004, 0.05)),\n",
       " (0.059999999999999984, (0.06300000000000001, 0.024999999999999998)),\n",
       " (0.07499999999999998, (0.06000000000000001, -6.938893903907228e-18))]"
      ]
     },
     "execution_count": 24,
     "metadata": {},
     "output_type": "execute_result"
    }
   ],
   "source": [
    "res = []\n",
    "for i, t_ in enumerate(t):\n",
    "    res.append((t_, (x_b[i], y[i])))\n",
    "res"
   ]
  },
  {
   "cell_type": "code",
   "execution_count": null,
   "id": "2f3948f2",
   "metadata": {},
   "outputs": [],
   "source": []
  },
  {
   "cell_type": "code",
   "execution_count": null,
   "id": "59a51459-45d5-4ad9-bc42-3713d37bf0bd",
   "metadata": {},
   "outputs": [],
   "source": []
  }
 ],
 "metadata": {
  "kernelspec": {
   "display_name": "Python 3",
   "language": "python",
   "name": "python3"
  },
  "language_info": {
   "codemirror_mode": {
    "name": "ipython",
    "version": 3
   },
   "file_extension": ".py",
   "mimetype": "text/x-python",
   "name": "python",
   "nbconvert_exporter": "python",
   "pygments_lexer": "ipython3",
   "version": "3.7.10"
  }
 },
 "nbformat": 4,
 "nbformat_minor": 5
}
