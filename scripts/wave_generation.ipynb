{
 "cells": [
  {
   "cell_type": "markdown",
   "id": "193a357e-6603-4301-bee1-ea040a8ce4fd",
   "metadata": {},
   "source": [
    "An analysis on creating the joint positions / time for our quad wave gait."
   ]
  },
  {
   "cell_type": "markdown",
   "id": "383eb213-4792-4a7e-954e-88a75eaf848a",
   "metadata": {},
   "source": [
    "# Highest Imports"
   ]
  },
  {
   "cell_type": "markdown",
   "id": "1c2a16e6-2672-4990-97b3-de19a27c2ab8",
   "metadata": {},
   "source": [
    "Set up matplotlib"
   ]
  },
  {
   "cell_type": "code",
   "execution_count": 13,
   "id": "d062bc21-b38e-4459-8912-cca7074a80e1",
   "metadata": {},
   "outputs": [],
   "source": [
    "%matplotlib widget\n",
    "import matplotlib.pyplot as plt"
   ]
  },
  {
   "cell_type": "markdown",
   "id": "b5788938-97c9-4a7d-b55c-fab9530e823b",
   "metadata": {},
   "source": [
    "Other useful imports"
   ]
  },
  {
   "cell_type": "code",
   "execution_count": 14,
   "id": "507777d6-4491-427e-91ac-8b224c3cb541",
   "metadata": {},
   "outputs": [],
   "source": [
    "import numpy as np"
   ]
  },
  {
   "cell_type": "markdown",
   "id": "4f640a9a-c8cf-442c-b268-ce10530438a1",
   "metadata": {},
   "source": [
    "# Gait Parameters"
   ]
  },
  {
   "cell_type": "code",
   "execution_count": 15,
   "id": "1f02057e-6cc1-450b-8ef4-bb6476b439ef",
   "metadata": {},
   "outputs": [],
   "source": [
    "beta = duty_cycle = 0.75\n",
    "v = body_velocity = 0.04  # m/s\n",
    "T = cycle_time = 1  # s\n",
    "L = v * T # m"
   ]
  },
  {
   "cell_type": "markdown",
   "id": "1116085e-43a1-4216-bd71-9dc9a72eccf3",
   "metadata": {},
   "source": [
    "Compute $T_l$, the relative cycle time for each leg"
   ]
  },
  {
   "cell_type": "code",
   "execution_count": 16,
   "id": "df2dca9b-b776-4d61-bf43-58630d5ab40a",
   "metadata": {},
   "outputs": [],
   "source": [
    "T_l = (1 - beta) * T"
   ]
  },
  {
   "cell_type": "markdown",
   "id": "eb9b3f08-c90c-4de9-9446-1a2902f4ac4f",
   "metadata": {},
   "source": [
    "# Generate Horizontal + Vertical Positions & Velocites"
   ]
  },
  {
   "cell_type": "markdown",
   "id": "ff521d84-9d1b-4ec9-b422-ef20c758d535",
   "metadata": {},
   "source": [
    "We will split this up into 6 checkpoints, similar to how it was done in the video. \n",
    "1. vertical launch (when the leg is lifting)\n",
    "2. horizontal launch (leg is done lifting up and starts moving horizontally)\n",
    "3. horizontal movement (leg is moving the final position)\n",
    "4. horizontal movement stop\n",
    "5. horizontal stop\n",
    "6. vertical stop\n",
    "\n",
    "Observe that the horizontal velocity graph is always symmetric, so we can split our checkpoints into the two following groups:\n",
    "1. horizontal_move_start\n",
    "2. horizontal_move_stable\n",
    "\n",
    "As the leg always needs to move first, we know that $launch_{vertical} = 0$ always. Keep them as fractions of the **half cycle** as everything is symmetric and dynamic"
   ]
  },
  {
   "cell_type": "code",
   "execution_count": 17,
   "id": "06d978ae-1bb3-4e5a-83b4-baea7c35cd4d",
   "metadata": {},
   "outputs": [
    {
     "data": {
      "text/plain": [
       "array([0.  , 0.05, 0.1 , 0.15, 0.2 , 0.25])"
      ]
     },
     "execution_count": 17,
     "metadata": {},
     "output_type": "execute_result"
    }
   ],
   "source": [
    "horizontal_move_start = .4\n",
    "horizontal_move_stable = .8\n",
    "checkpoint_fracs = np.array((0, horizontal_move_start, horizontal_move_stable))\n",
    "left = checkpoint_fracs * T_l / 2\n",
    "right = T_l - left \n",
    "t = np.concatenate((left, np.flip(right)))\n",
    "t"
   ]
  },
  {
   "cell_type": "markdown",
   "id": "7bf93a85-8725-4f9c-8ce6-4e0dd6d464bb",
   "metadata": {},
   "source": [
    "Visualize the checkpoints"
   ]
  },
  {
   "cell_type": "code",
   "execution_count": 18,
   "id": "8465fff2-881a-4b01-ab10-71c250520548",
   "metadata": {
    "tags": []
   },
   "outputs": [
    {
     "data": {
      "application/vnd.jupyter.widget-view+json": {
       "model_id": "7e10dcf232764e87961f4678c4edb57c",
       "version_major": 2,
       "version_minor": 0
      },
      "text/plain": [
       "Canvas(toolbar=Toolbar(toolitems=[('Home', 'Reset original view', 'home', 'home'), ('Back', 'Back to previous …"
      ]
     },
     "metadata": {},
     "output_type": "display_data"
    },
    {
     "data": {
      "text/plain": [
       "<matplotlib.collections.PathCollection at 0x7fe49d498190>"
      ]
     },
     "execution_count": 18,
     "metadata": {},
     "output_type": "execute_result"
    }
   ],
   "source": [
    "plt.figure()\n",
    "plt.scatter(t, np.full(t.shape, 1))"
   ]
  },
  {
   "cell_type": "markdown",
   "id": "fad65e98-3d00-4564-99ba-c4ee145061b5",
   "metadata": {},
   "source": [
    "## Horizontal Movement Over Time"
   ]
  },
  {
   "cell_type": "code",
   "execution_count": null,
   "id": "c64d191f-c20a-444e-bb3f-19af8c1a020d",
   "metadata": {},
   "outputs": [],
   "source": []
  },
  {
   "cell_type": "code",
   "execution_count": null,
   "id": "56fce759-969a-49d0-8ac4-085110a334a0",
   "metadata": {},
   "outputs": [],
   "source": []
  }
 ],
 "metadata": {
  "kernelspec": {
   "display_name": "Python 3",
   "language": "python",
   "name": "python3"
  },
  "language_info": {
   "codemirror_mode": {
    "name": "ipython",
    "version": 3
   },
   "file_extension": ".py",
   "mimetype": "text/x-python",
   "name": "python",
   "nbconvert_exporter": "python",
   "pygments_lexer": "ipython3",
   "version": "3.7.10"
  }
 },
 "nbformat": 4,
 "nbformat_minor": 5
}
