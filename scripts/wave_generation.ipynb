{
 "cells": [
  {
   "cell_type": "markdown",
   "id": "1a2b98c7",
   "metadata": {},
   "source": [
    "An analysis on creating the joint positions / time for our quad wave gait."
   ]
  },
  {
   "cell_type": "markdown",
   "id": "30cb3f4d",
   "metadata": {},
   "source": [
    "# Highest Imports"
   ]
  },
  {
   "cell_type": "markdown",
   "id": "2043cc4e",
   "metadata": {},
   "source": [
    "Set up matplotlib"
   ]
  },
  {
   "cell_type": "code",
   "execution_count": 1,
   "id": "796a714c",
   "metadata": {},
   "outputs": [
    {
     "name": "stdout",
     "output_type": "stream",
     "text": [
      "Requirement already satisfied: ipympl in /home/agupta/Documents/education/wpi/senior/mqp/venv-solo/lib/python3.7/site-packages (0.7.0)\n",
      "Requirement already satisfied: ipykernel>=4.7 in /home/agupta/Documents/education/wpi/senior/mqp/venv-solo/lib/python3.7/site-packages (from ipympl) (5.5.3)\n",
      "Requirement already satisfied: ipywidgets>=7.6.0 in /home/agupta/Documents/education/wpi/senior/mqp/venv-solo/lib/python3.7/site-packages (from ipympl) (7.6.3)\n",
      "Requirement already satisfied: matplotlib>=2.0.0 in /home/agupta/Documents/education/wpi/senior/mqp/venv-solo/lib/python3.7/site-packages (from ipympl) (3.4.1)\n",
      "Requirement already satisfied: ipython>=5.0.0 in /home/agupta/Documents/education/wpi/senior/mqp/venv-solo/lib/python3.7/site-packages (from ipykernel>=4.7->ipympl) (7.22.0)\n",
      "Requirement already satisfied: traitlets>=4.1.0 in /home/agupta/Documents/education/wpi/senior/mqp/venv-solo/lib/python3.7/site-packages (from ipykernel>=4.7->ipympl) (5.0.5)\n",
      "Requirement already satisfied: jupyter-client in /home/agupta/Documents/education/wpi/senior/mqp/venv-solo/lib/python3.7/site-packages (from ipykernel>=4.7->ipympl) (6.1.12)\n",
      "Requirement already satisfied: tornado>=4.2 in /home/agupta/Documents/education/wpi/senior/mqp/venv-solo/lib/python3.7/site-packages (from ipykernel>=4.7->ipympl) (6.1)\n",
      "Requirement already satisfied: jedi>=0.16 in /home/agupta/Documents/education/wpi/senior/mqp/venv-solo/lib/python3.7/site-packages (from ipython>=5.0.0->ipykernel>=4.7->ipympl) (0.18.0)\n",
      "Requirement already satisfied: pickleshare in /home/agupta/Documents/education/wpi/senior/mqp/venv-solo/lib/python3.7/site-packages (from ipython>=5.0.0->ipykernel>=4.7->ipympl) (0.7.5)\n",
      "Requirement already satisfied: backcall in /home/agupta/Documents/education/wpi/senior/mqp/venv-solo/lib/python3.7/site-packages (from ipython>=5.0.0->ipykernel>=4.7->ipympl) (0.2.0)\n",
      "Requirement already satisfied: setuptools>=18.5 in /home/agupta/Documents/education/wpi/senior/mqp/venv-solo/lib/python3.7/site-packages (from ipython>=5.0.0->ipykernel>=4.7->ipympl) (56.0.0)\n",
      "Requirement already satisfied: pygments in /home/agupta/Documents/education/wpi/senior/mqp/venv-solo/lib/python3.7/site-packages (from ipython>=5.0.0->ipykernel>=4.7->ipympl) (2.8.1)\n",
      "Requirement already satisfied: pexpect>4.3 in /home/agupta/Documents/education/wpi/senior/mqp/venv-solo/lib/python3.7/site-packages (from ipython>=5.0.0->ipykernel>=4.7->ipympl) (4.8.0)\n",
      "Requirement already satisfied: decorator in /home/agupta/Documents/education/wpi/senior/mqp/venv-solo/lib/python3.7/site-packages (from ipython>=5.0.0->ipykernel>=4.7->ipympl) (5.0.7)\n",
      "Requirement already satisfied: prompt-toolkit!=3.0.0,!=3.0.1,<3.1.0,>=2.0.0 in /home/agupta/Documents/education/wpi/senior/mqp/venv-solo/lib/python3.7/site-packages (from ipython>=5.0.0->ipykernel>=4.7->ipympl) (3.0.18)\n",
      "Requirement already satisfied: jupyterlab-widgets>=1.0.0 in /home/agupta/Documents/education/wpi/senior/mqp/venv-solo/lib/python3.7/site-packages (from ipywidgets>=7.6.0->ipympl) (1.0.0)\n",
      "Requirement already satisfied: widgetsnbextension~=3.5.0 in /home/agupta/Documents/education/wpi/senior/mqp/venv-solo/lib/python3.7/site-packages (from ipywidgets>=7.6.0->ipympl) (3.5.1)\n",
      "Requirement already satisfied: nbformat>=4.2.0 in /home/agupta/Documents/education/wpi/senior/mqp/venv-solo/lib/python3.7/site-packages (from ipywidgets>=7.6.0->ipympl) (5.1.3)\n",
      "Requirement already satisfied: parso<0.9.0,>=0.8.0 in /home/agupta/Documents/education/wpi/senior/mqp/venv-solo/lib/python3.7/site-packages (from jedi>=0.16->ipython>=5.0.0->ipykernel>=4.7->ipympl) (0.8.2)\n",
      "Requirement already satisfied: cycler>=0.10 in /home/agupta/Documents/education/wpi/senior/mqp/venv-solo/lib/python3.7/site-packages (from matplotlib>=2.0.0->ipympl) (0.10.0)\n",
      "Requirement already satisfied: pyparsing>=2.2.1 in /home/agupta/Documents/education/wpi/senior/mqp/venv-solo/lib/python3.7/site-packages (from matplotlib>=2.0.0->ipympl) (2.4.7)\n",
      "Requirement already satisfied: numpy>=1.16 in /home/agupta/Documents/education/wpi/senior/mqp/venv-solo/lib/python3.7/site-packages (from matplotlib>=2.0.0->ipympl) (1.19.5)\n",
      "Requirement already satisfied: python-dateutil>=2.7 in /home/agupta/Documents/education/wpi/senior/mqp/venv-solo/lib/python3.7/site-packages (from matplotlib>=2.0.0->ipympl) (2.8.1)\n",
      "Requirement already satisfied: kiwisolver>=1.0.1 in /home/agupta/Documents/education/wpi/senior/mqp/venv-solo/lib/python3.7/site-packages (from matplotlib>=2.0.0->ipympl) (1.3.1)\n",
      "Requirement already satisfied: pillow>=6.2.0 in /home/agupta/Documents/education/wpi/senior/mqp/venv-solo/lib/python3.7/site-packages (from matplotlib>=2.0.0->ipympl) (7.2.0)\n",
      "Requirement already satisfied: six in /home/agupta/Documents/education/wpi/senior/mqp/venv-solo/lib/python3.7/site-packages (from cycler>=0.10->matplotlib>=2.0.0->ipympl) (1.15.0)\n",
      "Requirement already satisfied: ipython-genutils in /home/agupta/Documents/education/wpi/senior/mqp/venv-solo/lib/python3.7/site-packages (from nbformat>=4.2.0->ipywidgets>=7.6.0->ipympl) (0.2.0)\n",
      "Requirement already satisfied: jsonschema!=2.5.0,>=2.4 in /home/agupta/Documents/education/wpi/senior/mqp/venv-solo/lib/python3.7/site-packages (from nbformat>=4.2.0->ipywidgets>=7.6.0->ipympl) (3.2.0)\n",
      "Requirement already satisfied: jupyter-core in /home/agupta/Documents/education/wpi/senior/mqp/venv-solo/lib/python3.7/site-packages (from nbformat>=4.2.0->ipywidgets>=7.6.0->ipympl) (4.7.1)\n",
      "Requirement already satisfied: attrs>=17.4.0 in /home/agupta/Documents/education/wpi/senior/mqp/venv-solo/lib/python3.7/site-packages (from jsonschema!=2.5.0,>=2.4->nbformat>=4.2.0->ipywidgets>=7.6.0->ipympl) (20.3.0)\n",
      "Requirement already satisfied: pyrsistent>=0.14.0 in /home/agupta/Documents/education/wpi/senior/mqp/venv-solo/lib/python3.7/site-packages (from jsonschema!=2.5.0,>=2.4->nbformat>=4.2.0->ipywidgets>=7.6.0->ipympl) (0.17.3)\n",
      "Requirement already satisfied: importlib-metadata in /home/agupta/Documents/education/wpi/senior/mqp/venv-solo/lib/python3.7/site-packages (from jsonschema!=2.5.0,>=2.4->nbformat>=4.2.0->ipywidgets>=7.6.0->ipympl) (3.10.1)\n",
      "Requirement already satisfied: ptyprocess>=0.5 in /home/agupta/Documents/education/wpi/senior/mqp/venv-solo/lib/python3.7/site-packages (from pexpect>4.3->ipython>=5.0.0->ipykernel>=4.7->ipympl) (0.7.0)\n",
      "Requirement already satisfied: wcwidth in /home/agupta/Documents/education/wpi/senior/mqp/venv-solo/lib/python3.7/site-packages (from prompt-toolkit!=3.0.0,!=3.0.1,<3.1.0,>=2.0.0->ipython>=5.0.0->ipykernel>=4.7->ipympl) (0.2.5)\n",
      "Requirement already satisfied: notebook>=4.4.1 in /home/agupta/Documents/education/wpi/senior/mqp/venv-solo/lib/python3.7/site-packages (from widgetsnbextension~=3.5.0->ipywidgets>=7.6.0->ipympl) (6.3.0)\n",
      "Requirement already satisfied: Send2Trash>=1.5.0 in /home/agupta/Documents/education/wpi/senior/mqp/venv-solo/lib/python3.7/site-packages (from notebook>=4.4.1->widgetsnbextension~=3.5.0->ipywidgets>=7.6.0->ipympl) (1.5.0)\n",
      "Requirement already satisfied: jinja2 in /home/agupta/Documents/education/wpi/senior/mqp/venv-solo/lib/python3.7/site-packages (from notebook>=4.4.1->widgetsnbextension~=3.5.0->ipywidgets>=7.6.0->ipympl) (2.11.3)\n",
      "Requirement already satisfied: argon2-cffi in /home/agupta/Documents/education/wpi/senior/mqp/venv-solo/lib/python3.7/site-packages (from notebook>=4.4.1->widgetsnbextension~=3.5.0->ipywidgets>=7.6.0->ipympl) (20.1.0)\n",
      "Requirement already satisfied: nbconvert in /home/agupta/Documents/education/wpi/senior/mqp/venv-solo/lib/python3.7/site-packages (from notebook>=4.4.1->widgetsnbextension~=3.5.0->ipywidgets>=7.6.0->ipympl) (6.0.7)\n",
      "Requirement already satisfied: terminado>=0.8.3 in /home/agupta/Documents/education/wpi/senior/mqp/venv-solo/lib/python3.7/site-packages (from notebook>=4.4.1->widgetsnbextension~=3.5.0->ipywidgets>=7.6.0->ipympl) (0.9.4)\n",
      "Requirement already satisfied: prometheus-client in /home/agupta/Documents/education/wpi/senior/mqp/venv-solo/lib/python3.7/site-packages (from notebook>=4.4.1->widgetsnbextension~=3.5.0->ipywidgets>=7.6.0->ipympl) (0.10.1)\n",
      "Requirement already satisfied: pyzmq>=17 in /home/agupta/Documents/education/wpi/senior/mqp/venv-solo/lib/python3.7/site-packages (from notebook>=4.4.1->widgetsnbextension~=3.5.0->ipywidgets>=7.6.0->ipympl) (22.0.3)\n",
      "Requirement already satisfied: cffi>=1.0.0 in /home/agupta/Documents/education/wpi/senior/mqp/venv-solo/lib/python3.7/site-packages (from argon2-cffi->notebook>=4.4.1->widgetsnbextension~=3.5.0->ipywidgets>=7.6.0->ipympl) (1.14.5)\n",
      "Requirement already satisfied: pycparser in /home/agupta/Documents/education/wpi/senior/mqp/venv-solo/lib/python3.7/site-packages (from cffi>=1.0.0->argon2-cffi->notebook>=4.4.1->widgetsnbextension~=3.5.0->ipywidgets>=7.6.0->ipympl) (2.20)\n",
      "Requirement already satisfied: typing-extensions>=3.6.4 in /home/agupta/Documents/education/wpi/senior/mqp/venv-solo/lib/python3.7/site-packages (from importlib-metadata->jsonschema!=2.5.0,>=2.4->nbformat>=4.2.0->ipywidgets>=7.6.0->ipympl) (3.7.4.3)\n",
      "Requirement already satisfied: zipp>=0.5 in /home/agupta/Documents/education/wpi/senior/mqp/venv-solo/lib/python3.7/site-packages (from importlib-metadata->jsonschema!=2.5.0,>=2.4->nbformat>=4.2.0->ipywidgets>=7.6.0->ipympl) (3.4.1)\n",
      "Requirement already satisfied: MarkupSafe>=0.23 in /home/agupta/Documents/education/wpi/senior/mqp/venv-solo/lib/python3.7/site-packages (from jinja2->notebook>=4.4.1->widgetsnbextension~=3.5.0->ipywidgets>=7.6.0->ipympl) (1.1.1)\n",
      "Requirement already satisfied: mistune<2,>=0.8.1 in /home/agupta/Documents/education/wpi/senior/mqp/venv-solo/lib/python3.7/site-packages (from nbconvert->notebook>=4.4.1->widgetsnbextension~=3.5.0->ipywidgets>=7.6.0->ipympl) (0.8.4)\n",
      "Requirement already satisfied: entrypoints>=0.2.2 in /home/agupta/Documents/education/wpi/senior/mqp/venv-solo/lib/python3.7/site-packages (from nbconvert->notebook>=4.4.1->widgetsnbextension~=3.5.0->ipywidgets>=7.6.0->ipympl) (0.3)\n",
      "Requirement already satisfied: pandocfilters>=1.4.1 in /home/agupta/Documents/education/wpi/senior/mqp/venv-solo/lib/python3.7/site-packages (from nbconvert->notebook>=4.4.1->widgetsnbextension~=3.5.0->ipywidgets>=7.6.0->ipympl) (1.4.3)\n",
      "Requirement already satisfied: bleach in /home/agupta/Documents/education/wpi/senior/mqp/venv-solo/lib/python3.7/site-packages (from nbconvert->notebook>=4.4.1->widgetsnbextension~=3.5.0->ipywidgets>=7.6.0->ipympl) (3.3.0)\n",
      "Requirement already satisfied: nbclient<0.6.0,>=0.5.0 in /home/agupta/Documents/education/wpi/senior/mqp/venv-solo/lib/python3.7/site-packages (from nbconvert->notebook>=4.4.1->widgetsnbextension~=3.5.0->ipywidgets>=7.6.0->ipympl) (0.5.3)\n",
      "Requirement already satisfied: testpath in /home/agupta/Documents/education/wpi/senior/mqp/venv-solo/lib/python3.7/site-packages (from nbconvert->notebook>=4.4.1->widgetsnbextension~=3.5.0->ipywidgets>=7.6.0->ipympl) (0.4.4)\n",
      "Requirement already satisfied: jupyterlab-pygments in /home/agupta/Documents/education/wpi/senior/mqp/venv-solo/lib/python3.7/site-packages (from nbconvert->notebook>=4.4.1->widgetsnbextension~=3.5.0->ipywidgets>=7.6.0->ipympl) (0.1.2)\n",
      "Requirement already satisfied: defusedxml in /home/agupta/Documents/education/wpi/senior/mqp/venv-solo/lib/python3.7/site-packages (from nbconvert->notebook>=4.4.1->widgetsnbextension~=3.5.0->ipywidgets>=7.6.0->ipympl) (0.7.1)\n",
      "Requirement already satisfied: nest-asyncio in /home/agupta/Documents/education/wpi/senior/mqp/venv-solo/lib/python3.7/site-packages (from nbclient<0.6.0,>=0.5.0->nbconvert->notebook>=4.4.1->widgetsnbextension~=3.5.0->ipywidgets>=7.6.0->ipympl) (1.5.1)\n",
      "Requirement already satisfied: async-generator in /home/agupta/Documents/education/wpi/senior/mqp/venv-solo/lib/python3.7/site-packages (from nbclient<0.6.0,>=0.5.0->nbconvert->notebook>=4.4.1->widgetsnbextension~=3.5.0->ipywidgets>=7.6.0->ipympl) (1.10)\n",
      "Requirement already satisfied: packaging in /home/agupta/Documents/education/wpi/senior/mqp/venv-solo/lib/python3.7/site-packages (from bleach->nbconvert->notebook>=4.4.1->widgetsnbextension~=3.5.0->ipywidgets>=7.6.0->ipympl) (20.9)\n",
      "Requirement already satisfied: webencodings in /home/agupta/Documents/education/wpi/senior/mqp/venv-solo/lib/python3.7/site-packages (from bleach->nbconvert->notebook>=4.4.1->widgetsnbextension~=3.5.0->ipywidgets>=7.6.0->ipympl) (0.5.1)\n"
     ]
    }
   ],
   "source": [
    "!pip3 install ipympl"
   ]
  },
  {
   "cell_type": "code",
   "execution_count": 2,
   "id": "b49b6353",
   "metadata": {},
   "outputs": [],
   "source": [
    "%matplotlib widget\n",
    "import matplotlib.pyplot as plt"
   ]
  },
  {
   "cell_type": "markdown",
   "id": "0a105a00",
   "metadata": {},
   "source": [
    "Other useful imports"
   ]
  },
  {
   "cell_type": "code",
   "execution_count": 3,
   "id": "fa35005b",
   "metadata": {},
   "outputs": [],
   "source": [
    "import numpy as np"
   ]
  },
  {
   "cell_type": "markdown",
   "id": "760a67a0",
   "metadata": {},
   "source": [
    "# Gait Parameters"
   ]
  },
  {
   "cell_type": "code",
   "execution_count": 4,
   "id": "953cd114",
   "metadata": {},
   "outputs": [],
   "source": [
    "beta = duty_cycle = 0.75\n",
    "v = body_velocity = 0.03  # m/s\n",
    "T = cycle_time = 1  # s\n",
    "L = v * T # m"
   ]
  },
  {
   "cell_type": "markdown",
   "id": "d563c2c1",
   "metadata": {},
   "source": [
    "Compute $T_l$, the relative cycle time for each leg"
   ]
  },
  {
   "cell_type": "code",
   "execution_count": 5,
   "id": "f7a4c894",
   "metadata": {},
   "outputs": [],
   "source": [
    "T_l = (1 - beta) * T"
   ]
  },
  {
   "cell_type": "markdown",
   "id": "6011f7b6",
   "metadata": {},
   "source": [
    "Vertical Leg movement parameters"
   ]
  },
  {
   "cell_type": "code",
   "execution_count": 6,
   "id": "9fa04aea",
   "metadata": {},
   "outputs": [],
   "source": [
    "# Maximum distance to raise the foot tip\n",
    "y_max = .015  #m"
   ]
  },
  {
   "cell_type": "markdown",
   "id": "dbd8cf78",
   "metadata": {},
   "source": [
    "# Generate Horizontal + Vertical Positions & Velocites"
   ]
  },
  {
   "cell_type": "markdown",
   "id": "9a723e48",
   "metadata": {},
   "source": [
    "We will split this up into 6 checkpoints, similar to how it was done in the video. \n",
    "1. vertical launch (when the leg is lifting)\n",
    "2. horizontal launch (leg is done lifting up and starts moving horizontally)\n",
    "3. horizontal movement (leg is moving the final position)\n",
    "4. horizontal movement stop\n",
    "5. horizontal stop\n",
    "6. vertical stop\n",
    "\n",
    "Observe that the horizontal velocity graph is always symmetric, so we can split our checkpoints into the two following groups:\n",
    "1. horizontal_move_start\n",
    "2. horizontal_move_stable\n",
    "\n",
    "As the leg always needs to move first, we know that $launch_{vertical} = 0$ always. Keep them as fractions of the **half cycle** as everything is symmetric and dynamic"
   ]
  },
  {
   "cell_type": "code",
   "execution_count": 7,
   "id": "b1628fde",
   "metadata": {},
   "outputs": [
    {
     "data": {
      "text/plain": [
       "array([0.  , 0.05, 0.1 , 0.15, 0.2 , 0.25])"
      ]
     },
     "execution_count": 7,
     "metadata": {},
     "output_type": "execute_result"
    }
   ],
   "source": [
    "horizontal_move_start = .4\n",
    "horizontal_move_stable = .8\n",
    "\n",
    "checkpoint_fracs = np.array((0, horizontal_move_start, horizontal_move_stable))\n",
    "left = checkpoint_fracs * T_l / 2\n",
    "right = T_l - left \n",
    "t = np.concatenate((left, np.flip(right)))\n",
    "t"
   ]
  },
  {
   "cell_type": "markdown",
   "id": "0831f8af",
   "metadata": {},
   "source": [
    "Visualize the checkpoints"
   ]
  },
  {
   "cell_type": "code",
   "execution_count": 8,
   "id": "7237f62f",
   "metadata": {
    "tags": []
   },
   "outputs": [
    {
     "data": {
      "application/vnd.jupyter.widget-view+json": {
       "model_id": "1985d02cdb064e718bce7fc387764a2f",
       "version_major": 2,
       "version_minor": 0
      },
      "text/plain": [
       "Canvas(toolbar=Toolbar(toolitems=[('Home', 'Reset original view', 'home', 'home'), ('Back', 'Back to previous …"
      ]
     },
     "metadata": {},
     "output_type": "display_data"
    },
    {
     "data": {
      "text/plain": [
       "<matplotlib.collections.PathCollection at 0x7feab5c50b90>"
      ]
     },
     "execution_count": 8,
     "metadata": {},
     "output_type": "execute_result"
    }
   ],
   "source": [
    "plt.figure()\n",
    "plt.scatter(t, np.full(t.shape, 1))"
   ]
  },
  {
   "cell_type": "markdown",
   "id": "a651c7f2",
   "metadata": {},
   "source": [
    "## Horizontal Velocity Over Time\n",
    "Compute the x-velocities for all timesteps"
   ]
  },
  {
   "cell_type": "code",
   "execution_count": 9,
   "id": "6796ce0e",
   "metadata": {},
   "outputs": [],
   "source": [
    "vx_max = L / ((t[2] - t[1]) + (t[3] - t[2]))\n",
    "vx = np.array((0, 0, vx_max, vx_max, 0, 0))"
   ]
  },
  {
   "cell_type": "code",
   "execution_count": 10,
   "id": "c8026d68",
   "metadata": {},
   "outputs": [
    {
     "data": {
      "text/plain": [
       "0.03"
      ]
     },
     "execution_count": 10,
     "metadata": {},
     "output_type": "execute_result"
    }
   ],
   "source": [
    "L"
   ]
  },
  {
   "cell_type": "markdown",
   "id": "3d1127e2",
   "metadata": {},
   "source": [
    "Visualize"
   ]
  },
  {
   "cell_type": "code",
   "execution_count": 11,
   "id": "a1472fbd",
   "metadata": {},
   "outputs": [
    {
     "data": {
      "application/vnd.jupyter.widget-view+json": {
       "model_id": "db22927345f74eb8bc2846bb054e87f4",
       "version_major": 2,
       "version_minor": 0
      },
      "text/plain": [
       "Canvas(toolbar=Toolbar(toolitems=[('Home', 'Reset original view', 'home', 'home'), ('Back', 'Back to previous …"
      ]
     },
     "metadata": {},
     "output_type": "display_data"
    },
    {
     "data": {
      "text/plain": [
       "Text(0.5, 1.0, '$v_x$ vs $t$')"
      ]
     },
     "execution_count": 11,
     "metadata": {},
     "output_type": "execute_result"
    }
   ],
   "source": [
    "plt.figure()\n",
    "plt.plot(t, vx)\n",
    "plt.title('$v_x$ vs $t$')"
   ]
  },
  {
   "cell_type": "markdown",
   "id": "2fdd5ce8",
   "metadata": {},
   "source": [
    "## Horizontal Displacement over time\n",
    "Recall that position ($x$) can be found as\n",
    "\n",
    "$$x(t + \\Delta T) = x(t) + \\left. \\int vx dx \\right]_{t-1}^{t}$$"
   ]
  },
  {
   "cell_type": "code",
   "execution_count": 12,
   "id": "5eec480a",
   "metadata": {},
   "outputs": [],
   "source": [
    "def vel_to_pos(start, t, vels):\n",
    "    d_curr = start\n",
    "    d = [d_curr]\n",
    "    for i in range(1, len(t)):        \n",
    "        if vels[i] == vels[i - 1]:  # Square integration\n",
    "            d_curr += (t[i] - t[i - 1]) * vels[i]\n",
    "        else:\n",
    "            if vels[i] == 0:\n",
    "                sgn = np.sign(vels[i - 1])\n",
    "            else:\n",
    "                sgn = np.sign(vels[i])\n",
    "            \n",
    "            # Compute square area\n",
    "            square = (t[i] - t[i - 1]) * min(abs(vels[i]), abs(vels[i - 1]))\n",
    "            \n",
    "            # Compute triangle area\n",
    "            triangle = .5 * (t[i] - t[i - 1]) * abs(vels[i] - vels[i - 1]) * sgn\n",
    "            \n",
    "            d_curr += (square + triangle)\n",
    "        d.append(d_curr)\n",
    "    return np.array(d)"
   ]
  },
  {
   "cell_type": "markdown",
   "id": "09b30dfb",
   "metadata": {},
   "source": [
    "Recall that the position graph can be found for"
   ]
  },
  {
   "cell_type": "code",
   "execution_count": 13,
   "id": "a2f2ace0",
   "metadata": {},
   "outputs": [],
   "source": [
    "x_0 = -L / 2\n",
    "x = vel_to_pos(x_0, t, vx)"
   ]
  },
  {
   "cell_type": "code",
   "execution_count": 14,
   "id": "ff105fce",
   "metadata": {},
   "outputs": [
    {
     "data": {
      "text/plain": [
       "array([0.  , 0.05, 0.1 , 0.15, 0.2 , 0.25])"
      ]
     },
     "execution_count": 14,
     "metadata": {},
     "output_type": "execute_result"
    }
   ],
   "source": [
    "t"
   ]
  },
  {
   "cell_type": "markdown",
   "id": "9e315608",
   "metadata": {},
   "source": [
    "Visualize"
   ]
  },
  {
   "cell_type": "code",
   "execution_count": 15,
   "id": "13fa5f55",
   "metadata": {},
   "outputs": [
    {
     "data": {
      "application/vnd.jupyter.widget-view+json": {
       "model_id": "c5a3d482e9e047fbb0fc19fb8ebf7096",
       "version_major": 2,
       "version_minor": 0
      },
      "text/plain": [
       "Canvas(toolbar=Toolbar(toolitems=[('Home', 'Reset original view', 'home', 'home'), ('Back', 'Back to previous …"
      ]
     },
     "metadata": {},
     "output_type": "display_data"
    },
    {
     "data": {
      "text/plain": [
       "Text(0.5, 1.0, '$x$ vs $t$')"
      ]
     },
     "execution_count": 15,
     "metadata": {},
     "output_type": "execute_result"
    }
   ],
   "source": [
    "plt.figure()\n",
    "plt.plot(t, x)\n",
    "plt.title('$x$ vs $t$')"
   ]
  },
  {
   "cell_type": "markdown",
   "id": "7f89ba3a",
   "metadata": {},
   "source": [
    "## Vertical Velocity over Time"
   ]
  },
  {
   "cell_type": "code",
   "execution_count": 16,
   "id": "334923a6",
   "metadata": {},
   "outputs": [],
   "source": [
    "vy_max = 2 * y_max / (t[2] - t[0]) \n",
    "vy = np.array([0, vy_max, 0, 0, -vy_max, 0])"
   ]
  },
  {
   "cell_type": "markdown",
   "id": "77ebe492",
   "metadata": {},
   "source": [
    "Visualize"
   ]
  },
  {
   "cell_type": "code",
   "execution_count": 17,
   "id": "dff520e6",
   "metadata": {},
   "outputs": [
    {
     "data": {
      "application/vnd.jupyter.widget-view+json": {
       "model_id": "7a8eb8973c1d47f7a12d634c37e39ef7",
       "version_major": 2,
       "version_minor": 0
      },
      "text/plain": [
       "Canvas(toolbar=Toolbar(toolitems=[('Home', 'Reset original view', 'home', 'home'), ('Back', 'Back to previous …"
      ]
     },
     "metadata": {},
     "output_type": "display_data"
    },
    {
     "data": {
      "text/plain": [
       "Text(0.5, 1.0, '$vy$ vs $t$')"
      ]
     },
     "execution_count": 17,
     "metadata": {},
     "output_type": "execute_result"
    }
   ],
   "source": [
    "plt.figure()\n",
    "plt.plot(t, vy)\n",
    "plt.title('$vy$ vs $t$')"
   ]
  },
  {
   "cell_type": "markdown",
   "id": "d46a764d",
   "metadata": {},
   "source": [
    "## Vertical Displacement Over Time"
   ]
  },
  {
   "cell_type": "code",
   "execution_count": 18,
   "id": "6abdb0a3",
   "metadata": {},
   "outputs": [],
   "source": [
    "y_0 = 0\n",
    "y = vel_to_pos(y_0, t, vy)"
   ]
  },
  {
   "cell_type": "markdown",
   "id": "ec2fca20",
   "metadata": {},
   "source": [
    "Visualize"
   ]
  },
  {
   "cell_type": "code",
   "execution_count": 19,
   "id": "0dd09ba7",
   "metadata": {},
   "outputs": [
    {
     "data": {
      "application/vnd.jupyter.widget-view+json": {
       "model_id": "6bea7647a767493c99e4b63b02ccbc25",
       "version_major": 2,
       "version_minor": 0
      },
      "text/plain": [
       "Canvas(toolbar=Toolbar(toolitems=[('Home', 'Reset original view', 'home', 'home'), ('Back', 'Back to previous …"
      ]
     },
     "metadata": {},
     "output_type": "display_data"
    },
    {
     "data": {
      "text/plain": [
       "Text(0.5, 1.0, '$y$ vs $t$')"
      ]
     },
     "execution_count": 19,
     "metadata": {},
     "output_type": "execute_result"
    }
   ],
   "source": [
    "plt.figure()\n",
    "plt.plot(t, y)\n",
    "plt.title('$y$ vs $t$')"
   ]
  },
  {
   "cell_type": "markdown",
   "id": "96b2c840",
   "metadata": {},
   "source": [
    "## Vertical Vel vs. Horizontal Vel w.r.t Ground"
   ]
  },
  {
   "cell_type": "code",
   "execution_count": 20,
   "id": "5eb35a01",
   "metadata": {},
   "outputs": [
    {
     "data": {
      "application/vnd.jupyter.widget-view+json": {
       "model_id": "c5716517eb7d46fea684088c646a1d05",
       "version_major": 2,
       "version_minor": 0
      },
      "text/plain": [
       "Canvas(toolbar=Toolbar(toolitems=[('Home', 'Reset original view', 'home', 'home'), ('Back', 'Back to previous …"
      ]
     },
     "metadata": {},
     "output_type": "display_data"
    },
    {
     "data": {
      "text/plain": [
       "Text(0.5, 1.0, '$y$ vs $x$ w.r.t ground')"
      ]
     },
     "execution_count": 20,
     "metadata": {},
     "output_type": "execute_result"
    }
   ],
   "source": [
    "plt.figure()\n",
    "plt.plot(x, y)\n",
    "plt.title('$y$ vs $x$ w.r.t ground')"
   ]
  },
  {
   "cell_type": "markdown",
   "id": "b7e29c13",
   "metadata": {},
   "source": [
    "## Vertical Positiosn vs. Horizontal positions w.r.t Body"
   ]
  },
  {
   "cell_type": "code",
   "execution_count": 21,
   "id": "e9dd8ced",
   "metadata": {},
   "outputs": [],
   "source": [
    "x_b = x - v * t"
   ]
  },
  {
   "cell_type": "markdown",
   "id": "7535eeca",
   "metadata": {},
   "source": [
    "Visualize"
   ]
  },
  {
   "cell_type": "code",
   "execution_count": 22,
   "id": "b4324f47",
   "metadata": {},
   "outputs": [
    {
     "data": {
      "application/vnd.jupyter.widget-view+json": {
       "model_id": "1ad5e91ec9964300853c57bae1396480",
       "version_major": 2,
       "version_minor": 0
      },
      "text/plain": [
       "Canvas(toolbar=Toolbar(toolitems=[('Home', 'Reset original view', 'home', 'home'), ('Back', 'Back to previous …"
      ]
     },
     "metadata": {},
     "output_type": "display_data"
    },
    {
     "data": {
      "text/plain": [
       "Text(0.5, 1.0, '$y$ vs $x$ w.r.t body')"
      ]
     },
     "execution_count": 22,
     "metadata": {},
     "output_type": "execute_result"
    }
   ],
   "source": [
    "plt.figure()\n",
    "plt.plot(x_b, y)\n",
    "plt.title('$y$ vs $x$ w.r.t body')"
   ]
  },
  {
   "cell_type": "code",
   "execution_count": 24,
   "id": "55f3d72b",
   "metadata": {},
   "outputs": [
    {
     "data": {
      "text/plain": [
       "[(0.0, (-0.015, 0.0)),\n",
       " (0.05, (-0.0165, 0.0075)),\n",
       " (0.1, (-0.010499999999999999, 0.015)),\n",
       " (0.15, (0.0029999999999999966, 0.015)),\n",
       " (0.2, (0.009, 0.007499999999999997)),\n",
       " (0.25, (0.0075, -8.673617379884035e-19))]"
      ]
     },
     "execution_count": 24,
     "metadata": {},
     "output_type": "execute_result"
    }
   ],
   "source": [
    "res = []\n",
    "for i, t_ in enumerate(t):\n",
    "    res.append((t_, (x_b[i], y[i])))\n",
    "res"
   ]
  },
  {
   "cell_type": "code",
   "execution_count": null,
   "id": "2f3948f2",
   "metadata": {},
   "outputs": [],
   "source": []
  }
 ],
 "metadata": {
  "kernelspec": {
   "display_name": "Python 3",
   "language": "python",
   "name": "python3"
  },
  "language_info": {
   "codemirror_mode": {
    "name": "ipython",
    "version": 3
   },
   "file_extension": ".py",
   "mimetype": "text/x-python",
   "name": "python",
   "nbconvert_exporter": "python",
   "pygments_lexer": "ipython3",
   "version": "3.7.10"
  }
 },
 "nbformat": 4,
 "nbformat_minor": 5
}
