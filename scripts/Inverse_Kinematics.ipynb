{
 "cells": [
  {
   "cell_type": "code",
   "execution_count": 3,
   "metadata": {},
   "outputs": [],
   "source": [
    "import matplotlib.pyplot as plt\n",
    "import math"
   ]
  },
  {
   "cell_type": "code",
   "execution_count": 4,
   "metadata": {},
   "outputs": [],
   "source": [
    "L1, L2 = 160, 170"
   ]
  },
  {
   "cell_type": "code",
   "execution_count": 5,
   "metadata": {},
   "outputs": [],
   "source": [
    "def ikin(x, y, is_front_leg):\n",
    "    \"\"\"Returns the joint angle of each 2 DOF leg\n",
    "    \"\"\"\n",
    "    alpha, beta = 0, 0  \n",
    "    alpha  = math.atan2(x, y)\n",
    "    beta = math.acos((L1**2 + x**2 + y**2 - L2**2)/(2*L1*math.sqrt(x**2 + y**2)))\n",
    "    if is_front_leg:\n",
    "        theta1 = alpha + beta\n",
    "        theta2 = -math.acos((x**2 + y**2 - L1**2 - L2**2)/(2*L1*L2))\n",
    "    else:\n",
    "        theta1 = alpha - beta\n",
    "        theta2 = math.acos((x**2 + y**2 - L1**2 - L2**2)/(2*L1*L2))\n",
    "    #theta1 = math.atan2(y, x) - math.atan2((L2*math.sin(theta2)), (L1+L2*math.cos(theta2)))\n",
    "     \n",
    "    return theta1, theta2"
   ]
  },
  {
   "cell_type": "code",
   "execution_count": 9,
   "metadata": {},
   "outputs": [],
   "source": [
    "def draw_leg(joint1, joint2):\n",
    "    x = [0]\n",
    "    y = [0]\n",
    "    \n",
    "    x1 = L1* math.cos(joint1)\n",
    "    y1 = L1*math.sin(joint1)\n",
    "    \n",
    "    x.append(x1)\n",
    "    y.append(y1)\n",
    "    \n",
    "    x2 = x1 + L2 * math.cos(joint1 + joint2)\n",
    "    y2 = y1 + L2 * math.sin(joint1 + joint2)\n",
    "    \n",
    "    print(\"X: {}\".format(x2))\n",
    "    print(\"Y: {}\".format(y2))\n",
    "    \n",
    "    x.append(x2)\n",
    "    y.append(y2)\n",
    "    \n",
    "    plt.plot(x, y)\n",
    "    plt.xlim([-330, 330])\n",
    "    plt.ylim([-330, 330])\n",
    "    plt.xlabel(\"Movement in x direction\")\n",
    "    plt.ylabel(\"Movement in y direction\")\n",
    "    plt.show()"
   ]
  },
  {
   "cell_type": "code",
   "execution_count": 10,
   "metadata": {},
   "outputs": [
    {
     "name": "stdout",
     "output_type": "stream",
     "text": [
      "Theta1: -0.994\n",
      "Theta2: -1.116\n",
      "X: -0.03235792019208361\n",
      "Y: -279.9942780765172\n"
     ]
    },
    {
     "data": {
      "image/png": "[encoded data removed]",
      "text/plain": [
       "<Figure size 432x288 with 1 Axes>"
      ]
     },
     "metadata": {},
     "output_type": "display_data"
    }
   ],
   "source": [
    "theta1, theta2 = ikin(-280, 0, is_front_leg=True)\n",
    "theta1 = float(\"{:.3f}\".format(theta1))\n",
    "print(\"Theta1: {}\".format(theta1))\n",
    "theta2 = float(\"{:.3f}\".format(theta2))\n",
    "print(\"Theta2: {}\".format(theta2))\n",
    "draw_leg(theta1, theta2)"
   ]
  },
  {
   "cell_type": "code",
   "execution_count": 8,
   "metadata": {},
   "outputs": [
    {
     "name": "stdout",
     "output_type": "stream",
     "text": [
      "Theta1: -2.148\n",
      "Theta2: 1.116\n",
      "X: -0.08169674339129074\n",
      "Y: -279.9942680275209\n"
     ]
    },
    {
     "data": {
      "image/png": "[encoded data removed]",
      "text/plain": [
       "<Figure size 432x288 with 1 Axes>"
      ]
     },
     "metadata": {},
     "output_type": "display_data"
    }
   ],
   "source": [
    "theta1, theta2 = ikin(-280, 0, is_front_leg=False)\n",
    "theta1 = float(\"{:.3f}\".format(theta1))\n",
    "print(\"Theta1: {}\".format(theta1))\n",
    "theta2 = float(\"{:.3f}\".format(theta2))\n",
    "print(\"Theta2: {}\".format(theta2))\n",
    "draw_leg(theta1, theta2)"
   ]
  },
  {
   "cell_type": "code",
   "execution_count": null,
   "metadata": {},
   "outputs": [],
   "source": []
  }
 ],
 "metadata": {
  "kernelspec": {
   "display_name": "Python 3",
   "language": "python",
   "name": "python3"
  },
  "language_info": {
   "codemirror_mode": {
    "name": "ipython",
    "version": 3
   },
   "file_extension": ".py",
   "mimetype": "text/x-python",
   "name": "python",
   "nbconvert_exporter": "python",
   "pygments_lexer": "ipython3",
   "version": "3.6.9"
  }
 },
 "nbformat": 4,
 "nbformat_minor": 2
}
